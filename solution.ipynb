{
 "cells": [
  {
   "cell_type": "code",
   "execution_count": 1,
   "metadata": {},
   "outputs": [],
   "source": [
    "# install modules using this\n",
    "# import sys\n",
    "# !{sys.executable} -m pip install xgboost"
   ]
  },
  {
   "cell_type": "code",
   "execution_count": 38,
   "metadata": {},
   "outputs": [],
   "source": [
    "import pandas as pd\n",
    "import numpy as np\n",
    "import os\n",
    "from sklearn.tree import DecisionTreeRegressor\n",
    "from sklearn.ensemble import RandomForestRegressor\n",
    "from sklearn.metrics import mean_absolute_error\n",
    "from sklearn.model_selection import train_test_split\n",
    "from sklearn.preprocessing import Imputer\n",
    "from sklearn.preprocessing import LabelEncoder\n",
    "from sklearn.model_selection import cross_val_score\n",
    "from xgboost import XGBRegressor\n",
    "from xgboost import XGBClassifier\n",
    "from sklearn.ensemble.partial_dependence import partial_dependence, plot_partial_dependence\n",
    "from sklearn.ensemble import GradientBoostingRegressor, GradientBoostingClassifier\n",
    "import matplotlib\n",
    "from sklearn.model_selection import cross_val_score\n",
    "from sklearn.pipeline import make_pipeline\n",
    "from sklearn.preprocessing import LabelEncoder\n",
    "from sklearn.preprocessing import OneHotEncoder\n",
    "import datetime\n",
    "import seaborn as sns\n",
    "import matplotlib.pyplot as plt"
   ]
  },
  {
   "cell_type": "code",
   "execution_count": 47,
   "metadata": {},
   "outputs": [],
   "source": [
    "# load data\n",
    "x_train = np.loadtxt(\"train\" + os.sep + \"x_train.csv\", \n",
    "                         delimiter = \",\", skiprows = 1)\n",
    "x_test  = np.loadtxt(\"test\" + os.sep + \"x_test.csv\", \n",
    "                     delimiter = \",\", skiprows = 1)    \n",
    "y_train = np.loadtxt(\"train\" + os.sep + \"y_train.csv\", \n",
    "                     delimiter = \",\", skiprows = 1)"
   ]
  },
  {
   "cell_type": "code",
   "execution_count": 68,
   "metadata": {},
   "outputs": [
    {
     "data": {
      "text/plain": [
       "0            1\n",
       "100          2\n",
       "200          3\n",
       "300          4\n",
       "400          5\n",
       "500          6\n",
       "600          7\n",
       "700          8\n",
       "800          9\n",
       "900         10\n",
       "1000        11\n",
       "1100        12\n",
       "1200        13\n",
       "1300        14\n",
       "1400        15\n",
       "1500        16\n",
       "1600        17\n",
       "1700        18\n",
       "1800        19\n",
       "1900        20\n",
       "2000        21\n",
       "2100        22\n",
       "2200        23\n",
       "2300        24\n",
       "2400        25\n",
       "2500        26\n",
       "2600        27\n",
       "2700        28\n",
       "2800        29\n",
       "2900        30\n",
       "          ... \n",
       "384100    3842\n",
       "384200    3843\n",
       "384300    3844\n",
       "384400    3845\n",
       "384500    3846\n",
       "384600    3847\n",
       "384700    3848\n",
       "384800    3849\n",
       "384900    3850\n",
       "385000    3851\n",
       "385100    3852\n",
       "385200    3853\n",
       "385300    3854\n",
       "385400    3855\n",
       "385500    3856\n",
       "385600    3857\n",
       "385700    3858\n",
       "385800    3859\n",
       "385900    3860\n",
       "386000    3861\n",
       "386100    3862\n",
       "386200    3863\n",
       "386300    3864\n",
       "386400    3865\n",
       "386500    3866\n",
       "386600    3867\n",
       "386700    3868\n",
       "386800    3869\n",
       "386900    3870\n",
       "387000    3871\n",
       "Name: GeneId, Length: 3871, dtype: int64"
      ]
     },
     "execution_count": 68,
     "metadata": {},
     "output_type": "execute_result"
    }
   ],
   "source": [
    "\n"
   ]
  },
  {
   "cell_type": "code",
   "execution_count": 20,
   "metadata": {},
   "outputs": [
    {
     "name": "stdout",
     "output_type": "stream",
     "text": [
      "Train / test data has 15485 / 3871 genes.\n",
      "x_train shape is (15485, 500)\n",
      "y_train shape is (15485,)\n",
      "x_test shape is (3871, 500)\n"
     ]
    }
   ],
   "source": [
    "# remove the first column(Id)\n",
    "x_train = x_train[:,1:] \n",
    "x_test  = x_test[:,1:]   \n",
    "y_train = y_train[:,1:] \n",
    "\n",
    "# Every 100 rows correspond to one gene.\n",
    "# Extract all 100-row-blocks into a list using np.split.\n",
    "num_genes_train = x_train.shape[0] / 100\n",
    "num_genes_test  = x_test.shape[0] / 100\n",
    "\n",
    "print(\"Train / test data has %d / %d genes.\" % \\\n",
    "      (num_genes_train, num_genes_test))\n",
    "x_train = np.split(x_train, num_genes_train)\n",
    "x_test  = np.split(x_test, num_genes_test)\n",
    "\n",
    "# Reshape by raveling each 100x5 array into a 500-length vector\n",
    "x_train = [g.ravel() for g in x_train]\n",
    "x_test  = [g.ravel() for g in x_test]\n",
    "\n",
    "# convert data from list to array\n",
    "x_train = np.array(x_train)\n",
    "y_train = np.array(y_train)\n",
    "x_test  = np.array(x_test)\n",
    "y_train = np.ravel(y_train)\n",
    "\n",
    "# Now x_train should be 15485 x 500 and x_test 3871 x 500.\n",
    "# y_train is 15485-long vector.\n",
    "\n",
    "print(\"x_train shape is %s\" % str(x_train.shape))    \n",
    "print(\"y_train shape is %s\" % str(y_train.shape))\n",
    "print(\"x_test shape is %s\" % str(x_test.shape))"
   ]
  },
  {
   "cell_type": "code",
   "execution_count": 30,
   "metadata": {},
   "outputs": [],
   "source": [
    "train_X,check_X,train_Y,check_Y=train_test_split(x_train,y_train,random_state=0)"
   ]
  },
  {
   "cell_type": "code",
   "execution_count": 40,
   "metadata": {},
   "outputs": [],
   "source": [
    "######################_model_selection_##############################\n",
    "def get_mae_model(model_,X, y):\n",
    "\t# model=DecisionTreeRegressor()\n",
    "    model=model_\n",
    "    mae_val= -1 * cross_val_score(model, X, y, scoring = 'neg_mean_absolute_error').mean()\n",
    "    print(\"MAE with \",type(model).__name__,\" \\t:\",mae_val)\n",
    "    return mae_val\n",
    "\n",
    "# finding max leaf nodes\n",
    "def get_MAE_nodes(max_leaf_nodes, training_X, predicting_X, training_y, predicting_values_y):\n",
    "    model=DecisionTreeRegressor(max_leaf_nodes=max_leaf_nodes,random_state=0)\n",
    "    model.fit(training_X,training_y)\n",
    "    predicted_val_y=model.predict(predicting_X)\n",
    "    MAE=mean_absolute_error(predicting_values_y,predicted_val_y)\n",
    "    return (MAE)\n",
    "# for max_leaf_nodes in [5,50,60,65,67,70,75,80,85,90]:\n",
    "#     current_MAE=get_MAE_nodes(max_leaf_nodes,train_X,val_X,train_y,val_y)\n",
    "#     print(\"max leaf nodes: %d \\t\\t Mean Absolute Error: %d\" %(max_leaf_nodes,current_MAE))\n",
    "\n",
    "# get_mae_model(DecisionTreeRegressor(),imputed_X_train,train_y)\n",
    "# get_mae_model(RandomForestRegressor(),imputed_X_train,train_y)\n",
    "# get_mae_model(XGBRegressor(),imputed_X_train,train_y)\n",
    "# get_mae_model(GradientBoostingRegressor(),imputed_X_train,train_y)\n",
    "\n",
    "#####################################################################"
   ]
  },
  {
   "cell_type": "code",
   "execution_count": 41,
   "metadata": {},
   "outputs": [
    {
     "data": {
      "text/plain": [
       "XGBClassifier(base_score=0.5, booster='gbtree', colsample_bylevel=1,\n",
       "       colsample_bytree=1, gamma=0, learning_rate=0.1, max_delta_step=0,\n",
       "       max_depth=8, min_child_weight=1, missing=None, n_estimators=100,\n",
       "       n_jobs=1, nthread=None, objective='binary:logistic', random_state=0,\n",
       "       reg_alpha=0, reg_lambda=1, scale_pos_weight=1, seed=None,\n",
       "       silent=True, subsample=0.5)"
      ]
     },
     "execution_count": 41,
     "metadata": {},
     "output_type": "execute_result"
    }
   ],
   "source": [
    "######################_trainging_the_model_##########################\n",
    "# find the number of nodes for least MAE and create the model according to it\n",
    "# model=DecisionTreeRegressor(max_leaf_nodes=75,random_state=0)  #model with specifying max leaf nodes\n",
    "# model.fit(train_X, train_y)\n",
    "\n",
    "# model= RandomForestRegressor()\n",
    "# model.fit(train_X, train_y)\n",
    "\n",
    "# model = GradientBoostingRegressor()\n",
    "# model.fit(train_X, train_y)\n",
    "\n",
    "# model=XGBRegressor()\n",
    "# scpecify n_jobs for XGBRegressor if dataset is too large. assign num of cores in machine to n_jobs \n",
    "# find using early_stopping_rounds and assign it to n_estimators, start with a big number\n",
    "# model=XGBRegressor(n_estimators=2000,learning_rate=0.05)\n",
    "model=XGBClassifier(n_estimators=100, max_depth=8, learning_rate=0.1, subsample=0.5)\n",
    "model.fit(train_X,train_Y, eval_set=[(check_X, check_Y)], verbose=False)\n",
    "#####################################################################"
   ]
  },
  {
   "cell_type": "code",
   "execution_count": 42,
   "metadata": {},
   "outputs": [
    {
     "name": "stdout",
     "output_type": "stream",
     "text": [
      "\n",
      "MAE:\t 0.15056818181818182\n"
     ]
    },
    {
     "name": "stderr",
     "output_type": "stream",
     "text": [
      "/home/dushan/anaconda3/lib/python3.6/site-packages/sklearn/preprocessing/label.py:151: DeprecationWarning: The truth value of an empty array is ambiguous. Returning False, but in future this will result in an error. Use `array.size > 0` to check that an array is not empty.\n",
      "  if diff:\n"
     ]
    }
   ],
   "source": [
    "######################_evaluating_the_model_#########################\n",
    "predicted_values_for_traininig_set=model.predict(check_X)\n",
    "# predicted_values_for_traininig_set=pipeline.predict(imputed_X_test)\n",
    "\n",
    "# print correct and predicted values\n",
    "# print(\"actual\",'predicted\\n')\n",
    "# for idx,val in enumerate(test_y):\n",
    "# \tprint (val,predicted_values_for_traininig_set[idx])\n",
    "\n",
    "# print mean absolute error\n",
    "print(\"\\nMAE:\\t\",mean_absolute_error(check_Y,predicted_values_for_traininig_set))\n",
    "#####################################################################"
   ]
  },
  {
   "cell_type": "code",
   "execution_count": 43,
   "metadata": {},
   "outputs": [
    {
     "name": "stderr",
     "output_type": "stream",
     "text": [
      "/home/dushan/anaconda3/lib/python3.6/site-packages/sklearn/preprocessing/label.py:151: DeprecationWarning: The truth value of an empty array is ambiguous. Returning False, but in future this will result in an error. Use `array.size > 0` to check that an array is not empty.\n",
      "  if diff:\n"
     ]
    }
   ],
   "source": [
    "######################_prediction_for_required_data_#################\n",
    "predicted_result=model.predict()\n",
    "# predicted_result=pipeline.predict(imputed_predicting_X)\n",
    "#####################################################################"
   ]
  },
  {
   "cell_type": "code",
   "execution_count": 61,
   "metadata": {},
   "outputs": [
    {
     "name": "stdout",
     "output_type": "stream",
     "text": [
      "387100\n",
      "3871\n"
     ]
    }
   ],
   "source": [
    "print(len(x_test))\n",
    "print(predicted_result.size)"
   ]
  },
  {
   "cell_type": "code",
   "execution_count": 70,
   "metadata": {},
   "outputs": [],
   "source": [
    "######################_visualization_of_prediction_##################\n",
    "# creating a csv\n",
    "test_data = pd.read_csv(\"test/x_test.csv\")\n",
    "\n",
    "submission = pd.DataFrame({'GeneId': test_data.GeneId[::100], 'Prediction': predicted_result})\n",
    "submission.to_csv('submission.csv', index=False)\n",
    "\n",
    "\n",
    "#####################################################################\n",
    "#                                                                   #\n",
    "#                                END                                #\n",
    "#                                                                   #\n",
    "#####################################################################"
   ]
  }
 ],
 "metadata": {
  "kernelspec": {
   "display_name": "Python 3",
   "language": "python",
   "name": "python3"
  },
  "language_info": {
   "codemirror_mode": {
    "name": "ipython",
    "version": 3
   },
   "file_extension": ".py",
   "mimetype": "text/x-python",
   "name": "python",
   "nbconvert_exporter": "python",
   "pygments_lexer": "ipython3",
   "version": "3.6.5"
  }
 },
 "nbformat": 4,
 "nbformat_minor": 2
}
